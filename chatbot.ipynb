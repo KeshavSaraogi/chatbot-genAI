{
 "cells": [
  {
   "cell_type": "code",
   "execution_count": null,
   "metadata": {},
   "outputs": [],
   "source": [
    "import os\n",
    "from dotenv import load_dotenv\n",
    "\n",
    "load_dotenv()"
   ]
  },
  {
   "cell_type": "code",
   "execution_count": null,
   "metadata": {},
   "outputs": [],
   "source": [
    "groqApiKey = os.getenv(\"GROQ_API_KEY\")"
   ]
  },
  {
   "cell_type": "code",
   "execution_count": null,
   "metadata": {},
   "outputs": [],
   "source": [
    "from langchain_groq import ChatGroq\n",
    "\n",
    "model = ChatGroq(\n",
    "    model = \"gemma2-9b-it\",\n",
    "    groq_api_key = groqApiKey\n",
    ")\n",
    "\n",
    "model"
   ]
  },
  {
   "cell_type": "code",
   "execution_count": null,
   "metadata": {},
   "outputs": [],
   "source": [
    "from langchain_core.messages import HumanMessage\n",
    "\n",
    "model.invoke([HumanMessage(\n",
    "    content = \"Hi, My name is Keshav and I am recent graduate from Boston University, specialising in AI\"\n",
    ")])"
   ]
  },
  {
   "cell_type": "code",
   "execution_count": null,
   "metadata": {},
   "outputs": [],
   "source": [
    "## Hardcoding Texts\n",
    "\n",
    "from langchain_core.messages import AIMessage\n",
    "\n",
    "model.invoke([\n",
    "    HumanMessage(content = \"Hi, My name is Keshav and I am recent graduate from Boston University, specialising in AI\"),\n",
    "    AIMessage(content = \"Hi Keshav,\\n\\nThat's great to hear! Congratulations on graduating from Boston University with a specialization in AI.  \\n\\nWhat are your plans now that you've finished your studies? Are you looking for a job in the field, or perhaps pursuing further research?\\n\\nI'm always interested to learn about the work that people are doing in AI.  \\n\\n\"),\n",
    "    HumanMessage(content = \"Hey, what is my name and where did I recently graduate from?\")\n",
    "])\n"
   ]
  },
  {
   "cell_type": "markdown",
   "metadata": {},
   "source": [
    "## Message History"
   ]
  },
  {
   "cell_type": "code",
   "execution_count": null,
   "metadata": {},
   "outputs": [],
   "source": [
    "from langchain_community.chat_message_histories         import ChatMessageHistory\n",
    "from langchain_core.chat_history                        import BaseChatMessageHistory\n",
    "from langchain_core.runnables.history                   import RunnableWithMessageHistory\n",
    "\n",
    "\n",
    "## Get Session History\n",
    "##    @input    - sessionId:str         -> unique session id\n",
    "##    @output   - ChatMessageHistory    -> BaseChatHistory\n",
    "\n",
    "ids = {}\n",
    "\n",
    "def getSessionHistory(sessionId: str): \n",
    "    if sessionId not in ids:\n",
    "        ids[sessionId] = ChatMessageHistory()\n",
    "    return ids[sessionId]\n",
    "\n",
    "withMessageHistory = RunnableWithMessageHistory(model, getSessionHistory)"
   ]
  },
  {
   "cell_type": "code",
   "execution_count": null,
   "metadata": {},
   "outputs": [],
   "source": [
    "## Hardcoding Values\n",
    "\n",
    "config = {\"configurable\": {\"session_id\": \"chat1\"}}"
   ]
  },
  {
   "cell_type": "code",
   "execution_count": null,
   "metadata": {},
   "outputs": [],
   "source": [
    "response = withMessageHistory.invoke([\n",
    "    HumanMessage(content = \"Hi, My name is Keshav and I am recent graduate from Boston University, specialising in AI.\")],\n",
    "    config = config\n",
    ")"
   ]
  },
  {
   "cell_type": "code",
   "execution_count": null,
   "metadata": {},
   "outputs": [],
   "source": [
    "response.content"
   ]
  },
  {
   "cell_type": "code",
   "execution_count": null,
   "metadata": {},
   "outputs": [],
   "source": [
    "# change in config with sessionId to test the response\n",
    "\n",
    "configOne = {\"configurable\": {\"session_id\": \"chat1\"}}\n",
    "configTwo = {\"configurable\": {\"session_id\": \"chat2\"}}\n",
    "\n",
    "response = withMessageHistory.invoke([\n",
    "    HumanMessage(content = \"What is my name?\")],\n",
    "    config = configTwo\n",
    ")"
   ]
  },
  {
   "cell_type": "code",
   "execution_count": null,
   "metadata": {},
   "outputs": [],
   "source": [
    "response.content"
   ]
  },
  {
   "cell_type": "markdown",
   "metadata": {},
   "source": [
    "## Prompt Template"
   ]
  },
  {
   "cell_type": "code",
   "execution_count": null,
   "metadata": {},
   "outputs": [],
   "source": [
    "from langchain_core.prompts         import ChatPromptTemplate, MessagesPlaceholder\n",
    "\n",
    "prompt = ChatPromptTemplate.from_messages([\n",
    "    (\"system\", \"You are a helpful assistant. Answer all the questions to the best of your ability.\"),\n",
    "    MessagesPlaceholder(variable_name = \"messages\")\n",
    "])"
   ]
  },
  {
   "cell_type": "code",
   "execution_count": null,
   "metadata": {},
   "outputs": [],
   "source": [
    "chain = prompt|model"
   ]
  },
  {
   "cell_type": "code",
   "execution_count": null,
   "metadata": {},
   "outputs": [],
   "source": [
    "chain.invoke({\n",
    "    \"messages\": [HumanMessage(content = \"Hi, my name is Keshav Saraogi.\")]\n",
    "})"
   ]
  },
  {
   "cell_type": "code",
   "execution_count": null,
   "metadata": {},
   "outputs": [],
   "source": [
    "withMessageHistory = RunnableWithMessageHistory(chain, getSessionHistory)"
   ]
  },
  {
   "cell_type": "code",
   "execution_count": null,
   "metadata": {},
   "outputs": [],
   "source": [
    "config = {\"configurable\": {\"session_id\": \"chatThree\"}}\n",
    "response = withMessageHistory.invoke(\n",
    "    [HumanMessage(content = \"Hi, My name is Keshav\")],\n",
    "    config = config\n",
    ")\n",
    "\n",
    "response.content"
   ]
  },
  {
   "cell_type": "code",
   "execution_count": null,
   "metadata": {},
   "outputs": [],
   "source": [
    "prompt = ChatPromptTemplate.from_messages([\n",
    "    (\"system\", \"You are a helpful assistant. Answer all the questions to the best of your ability in {language}.\"), \n",
    "    MessagesPlaceholder(variable_name = \"messages\")\n",
    "])\n",
    "\n",
    "chain = prompt|model"
   ]
  },
  {
   "cell_type": "code",
   "execution_count": null,
   "metadata": {},
   "outputs": [],
   "source": [
    "response = chain.invoke(\n",
    "    {\n",
    "    \"messages\": [HumanMessage(content = \"Hi, My name is Keshav\")],\n",
    "    \"language\": \"Hindi\"\n",
    "    }\n",
    ")\n",
    "\n",
    "response.content"
   ]
  },
  {
   "cell_type": "markdown",
   "metadata": {},
   "source": [
    "## Message History"
   ]
  },
  {
   "cell_type": "code",
   "execution_count": null,
   "metadata": {},
   "outputs": [],
   "source": [
    "withMessageHistory = RunnableWithMessageHistory(\n",
    "    chain, \n",
    "    getSessionHistory,\n",
    "    input_messages_key = \"messages\"\n",
    ")"
   ]
  },
  {
   "cell_type": "code",
   "execution_count": null,
   "metadata": {},
   "outputs": [],
   "source": [
    "config = {\"configurable\": {\"session_id\": \"chatFour\"}}\n",
    "\n",
    "response = withMessageHistory.invoke({\n",
    "    'messages': [HumanMessage(content = \"Hi, I am Keshav Saraogi\")],\n",
    "    \"language\": \"Hindi\" \n",
    "    },\n",
    "    config = config\n",
    ")"
   ]
  },
  {
   "cell_type": "code",
   "execution_count": null,
   "metadata": {},
   "outputs": [],
   "source": [
    "response.content"
   ]
  },
  {
   "cell_type": "code",
   "execution_count": null,
   "metadata": {},
   "outputs": [],
   "source": [
    "response = withMessageHistory.invoke({\n",
    "    'messages': [HumanMessage(content = \"What is my name?\")],\n",
    "    \"language\": \"Hindi\" \n",
    "    },\n",
    "    config = config\n",
    ")\n",
    "\n",
    "response.content"
   ]
  },
  {
   "cell_type": "markdown",
   "metadata": {},
   "source": [
    "## Conversation History"
   ]
  },
  {
   "cell_type": "code",
   "execution_count": null,
   "metadata": {},
   "outputs": [],
   "source": []
  }
 ],
 "metadata": {
  "kernelspec": {
   "display_name": "chatbot-venv",
   "language": "python",
   "name": "python3"
  },
  "language_info": {
   "codemirror_mode": {
    "name": "ipython",
    "version": 3
   },
   "file_extension": ".py",
   "mimetype": "text/x-python",
   "name": "python",
   "nbconvert_exporter": "python",
   "pygments_lexer": "ipython3",
   "version": "3.10.0"
  }
 },
 "nbformat": 4,
 "nbformat_minor": 2
}
