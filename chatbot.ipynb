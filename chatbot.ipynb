{
 "cells": [
  {
   "cell_type": "code",
   "execution_count": 1,
   "metadata": {},
   "outputs": [
    {
     "data": {
      "text/plain": [
       "True"
      ]
     },
     "execution_count": 1,
     "metadata": {},
     "output_type": "execute_result"
    }
   ],
   "source": [
    "import os\n",
    "from dotenv import load_dotenv\n",
    "\n",
    "load_dotenv()"
   ]
  },
  {
   "cell_type": "code",
   "execution_count": 2,
   "metadata": {},
   "outputs": [],
   "source": [
    "groqApiKey = os.getenv(\"GROQ_API_KEY\")"
   ]
  },
  {
   "cell_type": "code",
   "execution_count": 3,
   "metadata": {},
   "outputs": [
    {
     "data": {
      "text/plain": [
       "ChatGroq(client=<groq.resources.chat.completions.Completions object at 0x10c08c8e0>, async_client=<groq.resources.chat.completions.AsyncCompletions object at 0x10c08dc90>, model_name='gemma2-9b-it', model_kwargs={}, groq_api_key=SecretStr('**********'))"
      ]
     },
     "execution_count": 3,
     "metadata": {},
     "output_type": "execute_result"
    }
   ],
   "source": [
    "from langchain_groq import ChatGroq\n",
    "\n",
    "model = ChatGroq(\n",
    "    model = \"gemma2-9b-it\",\n",
    "    groq_api_key = groqApiKey\n",
    ")\n",
    "\n",
    "model"
   ]
  },
  {
   "cell_type": "code",
   "execution_count": 4,
   "metadata": {},
   "outputs": [
    {
     "data": {
      "text/plain": [
       "AIMessage(content=\"Hi Keshav,\\n\\nThat's great to hear! Congratulations on graduating from Boston University with a specialization in AI.  \\n\\nWhat are your plans now that you've finished your studies? Are you looking for a job in the field, or perhaps pursuing further research?\\n\\nI'm always interested to learn about the work that people are doing in AI.  \\n\\n\", additional_kwargs={}, response_metadata={'token_usage': {'completion_tokens': 78, 'prompt_tokens': 28, 'total_tokens': 106, 'completion_time': 0.141818182, 'prompt_time': 0.002145916, 'queue_time': 0.016085102, 'total_time': 0.143964098}, 'model_name': 'gemma2-9b-it', 'system_fingerprint': 'fp_10c08bf97d', 'finish_reason': 'stop', 'logprobs': None}, id='run-3978f74e-0f06-41ba-8fa3-f47b07ff5e24-0', usage_metadata={'input_tokens': 28, 'output_tokens': 78, 'total_tokens': 106})"
      ]
     },
     "execution_count": 4,
     "metadata": {},
     "output_type": "execute_result"
    }
   ],
   "source": [
    "from langchain_core.messages import HumanMessage\n",
    "\n",
    "model.invoke([HumanMessage(\n",
    "    content = \"Hi, My name is Keshav and I am recent graduate from Boston University, specialising in AI\"\n",
    ")])"
   ]
  },
  {
   "cell_type": "code",
   "execution_count": 5,
   "metadata": {},
   "outputs": [
    {
     "data": {
      "text/plain": [
       "AIMessage(content=\"You told me your name is Keshav and that you recently graduated from Boston University.  😊  \\n\\nIs there anything else you'd like to talk about?  Perhaps you could tell me more about your AI specialization? \\n\\n\", additional_kwargs={}, response_metadata={'token_usage': {'completion_tokens': 50, 'prompt_tokens': 127, 'total_tokens': 177, 'completion_time': 0.090909091, 'prompt_time': 0.00554459, 'queue_time': 0.017625126999999997, 'total_time': 0.096453681}, 'model_name': 'gemma2-9b-it', 'system_fingerprint': 'fp_10c08bf97d', 'finish_reason': 'stop', 'logprobs': None}, id='run-371ad55c-54a1-40d6-9150-5dec276d531f-0', usage_metadata={'input_tokens': 127, 'output_tokens': 50, 'total_tokens': 177})"
      ]
     },
     "execution_count": 5,
     "metadata": {},
     "output_type": "execute_result"
    }
   ],
   "source": [
    "## Hardcoding Texts\n",
    "\n",
    "from langchain_core.messages import AIMessage\n",
    "\n",
    "model.invoke([\n",
    "    HumanMessage(content = \"Hi, My name is Keshav and I am recent graduate from Boston University, specialising in AI\"),\n",
    "    AIMessage(content = \"Hi Keshav,\\n\\nThat's great to hear! Congratulations on graduating from Boston University with a specialization in AI.  \\n\\nWhat are your plans now that you've finished your studies? Are you looking for a job in the field, or perhaps pursuing further research?\\n\\nI'm always interested to learn about the work that people are doing in AI.  \\n\\n\"),\n",
    "    HumanMessage(content = \"Hey, what is my name and where did I recently graduate from?\")\n",
    "])\n"
   ]
  }
 ],
 "metadata": {
  "kernelspec": {
   "display_name": "chatbot-venv",
   "language": "python",
   "name": "python3"
  },
  "language_info": {
   "codemirror_mode": {
    "name": "ipython",
    "version": 3
   },
   "file_extension": ".py",
   "mimetype": "text/x-python",
   "name": "python",
   "nbconvert_exporter": "python",
   "pygments_lexer": "ipython3",
   "version": "3.10.0"
  }
 },
 "nbformat": 4,
 "nbformat_minor": 2
}
